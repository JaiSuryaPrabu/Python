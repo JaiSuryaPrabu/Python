{
 "cells": [
  {
   "cell_type": "code",
   "execution_count": 2,
   "metadata": {},
   "outputs": [],
   "source": [
    "import numpy as np"
   ]
  },
  {
   "cell_type": "code",
   "execution_count": 12,
   "metadata": {},
   "outputs": [],
   "source": [
    "#1d array\n",
    "d1 = np.array([1,2,3])\n",
    "#2d array\n",
    "d2 = np.array([[1,2,3],[4,5,6]])\n",
    "#3d array\n",
    "d3 = np.array([[1,2,3,2],[4,5,6,3],[7,8,9,4]])"
   ]
  },
  {
   "cell_type": "code",
   "execution_count": 13,
   "metadata": {},
   "outputs": [
    {
     "name": "stdout",
     "output_type": "stream",
     "text": [
      "(3,) (2, 3) (3, 4)\n"
     ]
    }
   ],
   "source": [
    "#printing the shape\n",
    "print(d1.shape,d2.shape,d3.shape)"
   ]
  },
  {
   "cell_type": "code",
   "execution_count": 20,
   "metadata": {},
   "outputs": [
    {
     "data": {
      "text/plain": [
       "array([8, 9])"
      ]
     },
     "execution_count": 20,
     "metadata": {},
     "output_type": "execute_result"
    }
   ],
   "source": [
    "#to get specific element [r , c]\n",
    "d3[1,2] #single element - 6\n",
    "#to get row\n",
    "d3[2,:] #'to get the 3rd row' - multiple element\n",
    "#to get the specific elements in the row\n",
    "d3[2,1:3] # 8 and 9 "
   ]
  }
 ],
 "metadata": {
  "kernelspec": {
   "display_name": "Python 3.10.6 ('tut')",
   "language": "python",
   "name": "python3"
  },
  "language_info": {
   "codemirror_mode": {
    "name": "ipython",
    "version": 3
   },
   "file_extension": ".py",
   "mimetype": "text/x-python",
   "name": "python",
   "nbconvert_exporter": "python",
   "pygments_lexer": "ipython3",
   "version": "3.10.6"
  },
  "orig_nbformat": 4,
  "vscode": {
   "interpreter": {
    "hash": "0bf2c791322a240eac79170d6c35ff513b960eb550c578664f7889c4c725c715"
   }
  }
 },
 "nbformat": 4,
 "nbformat_minor": 2
}
